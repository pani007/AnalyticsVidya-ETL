{
 "cells": [
  {
   "cell_type": "code",
   "execution_count": 1,
   "metadata": {},
   "outputs": [],
   "source": [
    "import numpy as np\n",
    "import pandas as pd\n",
    "import matplotlib.pyplot as plt\n",
    "import seaborn as sns\n",
    "import re"
   ]
  },
  {
   "cell_type": "code",
   "execution_count": 2,
   "metadata": {},
   "outputs": [
    {
     "name": "stdout",
     "output_type": "stream",
     "text": [
      "(6588000, 9)\n"
     ]
    }
   ],
   "source": [
    "df_log = pd.read_csv('VisitorLogsData.csv')\n",
    "\n",
    "print(df_log.shape)"
   ]
  },
  {
   "cell_type": "code",
   "execution_count": 3,
   "metadata": {},
   "outputs": [
    {
     "name": "stdout",
     "output_type": "stream",
     "text": [
      "<class 'pandas.core.frame.DataFrame'>\n",
      "RangeIndex: 6588000 entries, 0 to 6587999\n",
      "Data columns (total 9 columns):\n",
      "webClientID      object\n",
      "VisitDateTime    object\n",
      "ProductID        object\n",
      "UserID           object\n",
      "Activity         object\n",
      "Browser          object\n",
      "OS               object\n",
      "City             object\n",
      "Country          object\n",
      "dtypes: object(9)\n",
      "memory usage: 452.4+ MB\n"
     ]
    }
   ],
   "source": [
    "df_log.info()"
   ]
  },
  {
   "cell_type": "code",
   "execution_count": 4,
   "metadata": {},
   "outputs": [],
   "source": [
    "df_user = pd.read_csv('userTable.csv')"
   ]
  },
  {
   "cell_type": "code",
   "execution_count": 5,
   "metadata": {},
   "outputs": [
    {
     "data": {
      "text/plain": [
       "(34050, 3)"
      ]
     },
     "execution_count": 5,
     "metadata": {},
     "output_type": "execute_result"
    }
   ],
   "source": [
    "df_user.shape"
   ]
  },
  {
   "cell_type": "markdown",
   "metadata": {},
   "source": [
    "## lets merge the tables on userid to get consolidated data"
   ]
  },
  {
   "cell_type": "code",
   "execution_count": 6,
   "metadata": {},
   "outputs": [
    {
     "name": "stdout",
     "output_type": "stream",
     "text": [
      "           webClientID            VisitDateTime ProductID   UserID  Activity  \\\n",
      "0       WI100000112772      1526366895249000000  Pr100017  U106593     click   \n",
      "1       WI100000112772  2018-05-16 06:53:23.737  Pr100241  U106593  pageload   \n",
      "2       WI100000112772  2018-05-15 06:47:49.239  Pr100017  U106593     click   \n",
      "3       WI100000112772  2018-05-16 06:54:26.424  Pr100901  U106593  pageload   \n",
      "4       WI100000112772  2018-05-15 06:47:36.691  Pr100017  U106593     click   \n",
      "...                ...                      ...       ...      ...       ...   \n",
      "650690  WI100000977958  2018-05-19 12:51:25.121  Pr100083  U121518  pageload   \n",
      "650691  WI100000696937  2018-05-21 06:49:59.537  Pr100102  U119259  pageload   \n",
      "650692  WI100000949074  2018-05-14 22:27:00.115  Pr100294  U127061     click   \n",
      "650693  WI100000949074  2018-05-14 22:27:00.115  Pr100294  U127061     click   \n",
      "650694  WI100000320335  2018-05-18 12:06:27.537  Pr100017  U122948       nan   \n",
      "\n",
      "              Browser        OS       City  Country  \\\n",
      "0       Chrome Mobile   Android                       \n",
      "1       Chrome Mobile   Android                       \n",
      "2       Chrome Mobile   Android                       \n",
      "3       Chrome Mobile   Android                       \n",
      "4       Chrome Mobile   Android                       \n",
      "...               ...       ...        ...      ...   \n",
      "650690         Chrome  Mac OS X     Indore    India   \n",
      "650691         Chrome   Windows  Stuttgart  Germany   \n",
      "650692  Chrome Mobile   Android      Lagos  Nigeria   \n",
      "650693  Chrome Mobile   Android      Lagos  Nigeria   \n",
      "650694         Chrome   Windows     Mumbai    India   \n",
      "\n",
      "                             Signup Date User Segment  \n",
      "0       2017-09-10 15:48:09.451327+00:00            B  \n",
      "1       2017-09-10 15:48:09.451327+00:00            B  \n",
      "2       2017-09-10 15:48:09.451327+00:00            B  \n",
      "3       2017-09-10 15:48:09.451327+00:00            B  \n",
      "4       2017-09-10 15:48:09.451327+00:00            B  \n",
      "...                                  ...          ...  \n",
      "650690  2016-09-03 17:03:20.561310+00:00            B  \n",
      "650691  2018-04-06 09:56:24.864173+00:00            B  \n",
      "650692  2018-02-28 10:46:30.694938+00:00            B  \n",
      "650693  2018-02-28 10:46:30.694938+00:00            B  \n",
      "650694  2017-05-19 12:13:29.147470+00:00            C  \n",
      "\n",
      "[650695 rows x 11 columns]\n"
     ]
    }
   ],
   "source": [
    "df_final = pd.merge(df_log,df_user,on='UserID',how='inner')\n",
    "df_final['ProductID'] = df_final['ProductID'].apply(lambda x: str(x).capitalize())\n",
    "df_final['Activity'] = df_final['Activity'].apply(lambda x: str(x).lower())\n",
    "print(df_final)"
   ]
  },
  {
   "cell_type": "markdown",
   "metadata": {},
   "source": [
    "### clean the dates"
   ]
  },
  {
   "cell_type": "code",
   "execution_count": 7,
   "metadata": {},
   "outputs": [],
   "source": [
    "#### COnvert date time to python pandas format\n",
    "\n",
    "\n",
    "\n",
    "\n",
    "########################## This function is applied to get the dates #####################################################\n",
    "#\n",
    "#                     Using the below function to get friendly format date\n",
    "#\n",
    "##########################################################################################################################\n",
    "def formatdate(date):\n",
    "    try:\n",
    "        date = np.int64(date)\n",
    "        date = pd.to_datetime(date)\n",
    "    except(ValueError):\n",
    "        date = pd.to_datetime(date)\n",
    "    return date    \n",
    "####################################### Function Ends  ########################################################################\n",
    "\n",
    "\n",
    "df_final['VisitDateTime'] = df_final['VisitDateTime'].apply(formatdate)\n",
    "    "
   ]
  },
  {
   "cell_type": "code",
   "execution_count": 8,
   "metadata": {},
   "outputs": [
    {
     "data": {
      "text/plain": [
       "64803"
      ]
     },
     "execution_count": 8,
     "metadata": {},
     "output_type": "execute_result"
    }
   ],
   "source": [
    "df_final['VisitDateTime'].isnull().sum()"
   ]
  },
  {
   "cell_type": "markdown",
   "metadata": {},
   "source": [
    "### The user has to atleast open webite before he/she clicks"
   ]
  },
  {
   "cell_type": "code",
   "execution_count": 9,
   "metadata": {},
   "outputs": [],
   "source": [
    "#df_final_model = df_final[~df_final['VisitDateTime'].isnull()]\n",
    "df_final_model = df_final\n",
    "df_final_model['Activity'] = df_final_model['Activity'].fillna(\"pageload\")\n",
    "\n",
    "\n",
    "#df_final_model['Activity'] = df_final_model['Activity'].apply(lambda x: \"pageload\" if x.lower() == 'nan' else x)"
   ]
  },
  {
   "cell_type": "markdown",
   "metadata": {},
   "source": [
    "###  Now let us create a column for date only"
   ]
  },
  {
   "cell_type": "markdown",
   "metadata": {},
   "source": [
    "### Let us now get the Features from the data\n",
    "\n",
    "- We will have to do group by operations\n",
    "- Groupby requires aggregate functions\n",
    "- Then we will do the concatenation part for the dataframe\n",
    "\n",
    "\n",
    "#### Let us do the first group by no of days visited in past `7` days"
   ]
  },
  {
   "cell_type": "code",
   "execution_count": 10,
   "metadata": {},
   "outputs": [],
   "source": [
    "today = pd.to_datetime(\"28-May-2018\") \n",
    "startdate = today+ pd.Timedelta(-7,'D')\n",
    "startdate\n",
    "df_final_model['HasVisited'] = df_final_model['VisitDateTime'].apply(lambda x: x >= startdate)"
   ]
  },
  {
   "cell_type": "code",
   "execution_count": 11,
   "metadata": {},
   "outputs": [
    {
     "data": {
      "text/plain": [
       "UserID        U106593U106593U106593U106593U106593U106593U108...\n",
       "HasVisited                                                25636\n",
       "dtype: object"
      ]
     },
     "execution_count": 11,
     "metadata": {},
     "output_type": "execute_result"
    }
   ],
   "source": [
    "df_final_model['VisitedDate'] = df_final_model['VisitDateTime'].apply(lambda x: x.date())\n",
    "\n",
    "df_testsample = df_final_model[['UserID','VisitedDate','HasVisited']].drop_duplicates()\n",
    "df_testsample[~df_testsample['VisitedDate'].isnull()].sum()"
   ]
  },
  {
   "cell_type": "markdown",
   "metadata": {},
   "source": [
    "### Let us do the groupby "
   ]
  },
  {
   "cell_type": "code",
   "execution_count": 12,
   "metadata": {},
   "outputs": [
    {
     "data": {
      "text/html": [
       "<div>\n",
       "<style scoped>\n",
       "    .dataframe tbody tr th:only-of-type {\n",
       "        vertical-align: middle;\n",
       "    }\n",
       "\n",
       "    .dataframe tbody tr th {\n",
       "        vertical-align: top;\n",
       "    }\n",
       "\n",
       "    .dataframe thead th {\n",
       "        text-align: right;\n",
       "    }\n",
       "</style>\n",
       "<table border=\"1\" class=\"dataframe\">\n",
       "  <thead>\n",
       "    <tr style=\"text-align: right;\">\n",
       "      <th></th>\n",
       "      <th>HasVisited</th>\n",
       "    </tr>\n",
       "    <tr>\n",
       "      <th>UserID</th>\n",
       "      <th></th>\n",
       "    </tr>\n",
       "  </thead>\n",
       "  <tbody>\n",
       "    <tr>\n",
       "      <td>U100002</td>\n",
       "      <td>0.0</td>\n",
       "    </tr>\n",
       "    <tr>\n",
       "      <td>U100003</td>\n",
       "      <td>1.0</td>\n",
       "    </tr>\n",
       "    <tr>\n",
       "      <td>U100004</td>\n",
       "      <td>1.0</td>\n",
       "    </tr>\n",
       "    <tr>\n",
       "      <td>U100005</td>\n",
       "      <td>1.0</td>\n",
       "    </tr>\n",
       "    <tr>\n",
       "      <td>U100006</td>\n",
       "      <td>1.0</td>\n",
       "    </tr>\n",
       "    <tr>\n",
       "      <td>...</td>\n",
       "      <td>...</td>\n",
       "    </tr>\n",
       "    <tr>\n",
       "      <td>U136960</td>\n",
       "      <td>0.0</td>\n",
       "    </tr>\n",
       "    <tr>\n",
       "      <td>U136961</td>\n",
       "      <td>0.0</td>\n",
       "    </tr>\n",
       "    <tr>\n",
       "      <td>U136963</td>\n",
       "      <td>0.0</td>\n",
       "    </tr>\n",
       "    <tr>\n",
       "      <td>U136964</td>\n",
       "      <td>0.0</td>\n",
       "    </tr>\n",
       "    <tr>\n",
       "      <td>U136965</td>\n",
       "      <td>0.0</td>\n",
       "    </tr>\n",
       "  </tbody>\n",
       "</table>\n",
       "<p>34050 rows × 1 columns</p>\n",
       "</div>"
      ],
      "text/plain": [
       "         HasVisited\n",
       "UserID             \n",
       "U100002         0.0\n",
       "U100003         1.0\n",
       "U100004         1.0\n",
       "U100005         1.0\n",
       "U100006         1.0\n",
       "...             ...\n",
       "U136960         0.0\n",
       "U136961         0.0\n",
       "U136963         0.0\n",
       "U136964         0.0\n",
       "U136965         0.0\n",
       "\n",
       "[34050 rows x 1 columns]"
      ]
     },
     "execution_count": 12,
     "metadata": {},
     "output_type": "execute_result"
    }
   ],
   "source": [
    "\n",
    "df_visited = df_testsample.loc[:,['UserID','HasVisited']]\n",
    "\n",
    "df_feature_one = df_visited.groupby(by='UserID').sum()\n",
    "\n",
    "df_feature_one"
   ]
  },
  {
   "cell_type": "markdown",
   "metadata": {},
   "source": [
    "#### Creating a function which groups by respective columns and finds the count"
   ]
  },
  {
   "cell_type": "code",
   "execution_count": 13,
   "metadata": {},
   "outputs": [],
   "source": [
    "df_final_model = df_final_model.drop('HasVisited',axis=1)\n",
    "\n",
    "def group_users(by,no_of_days,df=df_final_model,today=today):\n",
    "    \n",
    "    startdate = today + pd.Timedelta(-1*no_of_days,'D')\n",
    "    \n",
    "    df['Has'+ by] = df['VisitDateTime'].apply(lambda x: x >= startdate)\n",
    "    \n",
    "    df_grouped = df.loc[:,['UserID','ProductID','Has' + by]].drop_duplicates()\n",
    "    \n",
    "    df_grouped = df_grouped.groupby(by='UserID').sum()\n",
    "    \n",
    "    df = df.drop('Has' + by, axis=1)\n",
    "    \n",
    "    return df_grouped"
   ]
  },
  {
   "cell_type": "code",
   "execution_count": 14,
   "metadata": {},
   "outputs": [
    {
     "data": {
      "text/html": [
       "<div>\n",
       "<style scoped>\n",
       "    .dataframe tbody tr th:only-of-type {\n",
       "        vertical-align: middle;\n",
       "    }\n",
       "\n",
       "    .dataframe tbody tr th {\n",
       "        vertical-align: top;\n",
       "    }\n",
       "\n",
       "    .dataframe thead th {\n",
       "        text-align: right;\n",
       "    }\n",
       "</style>\n",
       "<table border=\"1\" class=\"dataframe\">\n",
       "  <thead>\n",
       "    <tr style=\"text-align: right;\">\n",
       "      <th></th>\n",
       "      <th>HasProductID</th>\n",
       "    </tr>\n",
       "    <tr>\n",
       "      <th>UserID</th>\n",
       "      <th></th>\n",
       "    </tr>\n",
       "  </thead>\n",
       "  <tbody>\n",
       "    <tr>\n",
       "      <td>U100002</td>\n",
       "      <td>2.0</td>\n",
       "    </tr>\n",
       "    <tr>\n",
       "      <td>U100003</td>\n",
       "      <td>3.0</td>\n",
       "    </tr>\n",
       "    <tr>\n",
       "      <td>U100004</td>\n",
       "      <td>16.0</td>\n",
       "    </tr>\n",
       "    <tr>\n",
       "      <td>U100005</td>\n",
       "      <td>3.0</td>\n",
       "    </tr>\n",
       "    <tr>\n",
       "      <td>U100006</td>\n",
       "      <td>1.0</td>\n",
       "    </tr>\n",
       "    <tr>\n",
       "      <td>...</td>\n",
       "      <td>...</td>\n",
       "    </tr>\n",
       "    <tr>\n",
       "      <td>U136960</td>\n",
       "      <td>0.0</td>\n",
       "    </tr>\n",
       "    <tr>\n",
       "      <td>U136961</td>\n",
       "      <td>0.0</td>\n",
       "    </tr>\n",
       "    <tr>\n",
       "      <td>U136963</td>\n",
       "      <td>0.0</td>\n",
       "    </tr>\n",
       "    <tr>\n",
       "      <td>U136964</td>\n",
       "      <td>0.0</td>\n",
       "    </tr>\n",
       "    <tr>\n",
       "      <td>U136965</td>\n",
       "      <td>0.0</td>\n",
       "    </tr>\n",
       "  </tbody>\n",
       "</table>\n",
       "<p>34050 rows × 1 columns</p>\n",
       "</div>"
      ],
      "text/plain": [
       "         HasProductID\n",
       "UserID               \n",
       "U100002           2.0\n",
       "U100003           3.0\n",
       "U100004          16.0\n",
       "U100005           3.0\n",
       "U100006           1.0\n",
       "...               ...\n",
       "U136960           0.0\n",
       "U136961           0.0\n",
       "U136963           0.0\n",
       "U136964           0.0\n",
       "U136965           0.0\n",
       "\n",
       "[34050 rows x 1 columns]"
      ]
     },
     "execution_count": 14,
     "metadata": {},
     "output_type": "execute_result"
    }
   ],
   "source": [
    "product_15days = group_users('ProductID',15)\n",
    "product_15days"
   ]
  },
  {
   "cell_type": "markdown",
   "metadata": {},
   "source": [
    "### Finding the vintage of the user\n",
    "- The vintage the the no of days since when the user registered till today.\n",
    "- we will create a data frame"
   ]
  },
  {
   "cell_type": "code",
   "execution_count": 15,
   "metadata": {},
   "outputs": [
    {
     "data": {
      "text/html": [
       "<div>\n",
       "<style scoped>\n",
       "    .dataframe tbody tr th:only-of-type {\n",
       "        vertical-align: middle;\n",
       "    }\n",
       "\n",
       "    .dataframe tbody tr th {\n",
       "        vertical-align: top;\n",
       "    }\n",
       "\n",
       "    .dataframe thead th {\n",
       "        text-align: right;\n",
       "    }\n",
       "</style>\n",
       "<table border=\"1\" class=\"dataframe\">\n",
       "  <thead>\n",
       "    <tr style=\"text-align: right;\">\n",
       "      <th></th>\n",
       "      <th>UserID</th>\n",
       "      <th>Vintage</th>\n",
       "    </tr>\n",
       "  </thead>\n",
       "  <tbody>\n",
       "    <tr>\n",
       "      <td>0</td>\n",
       "      <td>U133159</td>\n",
       "      <td>44</td>\n",
       "    </tr>\n",
       "    <tr>\n",
       "      <td>1</td>\n",
       "      <td>U129368</td>\n",
       "      <td>177</td>\n",
       "    </tr>\n",
       "    <tr>\n",
       "      <td>2</td>\n",
       "      <td>U109654</td>\n",
       "      <td>1896</td>\n",
       "    </tr>\n",
       "    <tr>\n",
       "      <td>3</td>\n",
       "      <td>U108998</td>\n",
       "      <td>130</td>\n",
       "    </tr>\n",
       "    <tr>\n",
       "      <td>4</td>\n",
       "      <td>U131393</td>\n",
       "      <td>62</td>\n",
       "    </tr>\n",
       "    <tr>\n",
       "      <td>...</td>\n",
       "      <td>...</td>\n",
       "      <td>...</td>\n",
       "    </tr>\n",
       "    <tr>\n",
       "      <td>34045</td>\n",
       "      <td>U134073</td>\n",
       "      <td>70</td>\n",
       "    </tr>\n",
       "    <tr>\n",
       "      <td>34046</td>\n",
       "      <td>U113667</td>\n",
       "      <td>89</td>\n",
       "    </tr>\n",
       "    <tr>\n",
       "      <td>34047</td>\n",
       "      <td>U128470</td>\n",
       "      <td>85</td>\n",
       "    </tr>\n",
       "    <tr>\n",
       "      <td>34048</td>\n",
       "      <td>U104005</td>\n",
       "      <td>126</td>\n",
       "    </tr>\n",
       "    <tr>\n",
       "      <td>34049</td>\n",
       "      <td>U125524</td>\n",
       "      <td>167</td>\n",
       "    </tr>\n",
       "  </tbody>\n",
       "</table>\n",
       "<p>34050 rows × 2 columns</p>\n",
       "</div>"
      ],
      "text/plain": [
       "        UserID  Vintage\n",
       "0      U133159       44\n",
       "1      U129368      177\n",
       "2      U109654     1896\n",
       "3      U108998      130\n",
       "4      U131393       62\n",
       "...        ...      ...\n",
       "34045  U134073       70\n",
       "34046  U113667       89\n",
       "34047  U128470       85\n",
       "34048  U104005      126\n",
       "34049  U125524      167\n",
       "\n",
       "[34050 rows x 2 columns]"
      ]
     },
     "execution_count": 15,
     "metadata": {},
     "output_type": "execute_result"
    }
   ],
   "source": [
    "import re\n",
    "\n",
    "df_vintage = df_user.loc[:,['UserID','Signup Date']]\n",
    "df_vintage['Signup Date'] = df_vintage['Signup Date'].apply(lambda x: pd.to_datetime(x))\n",
    "\n",
    "\n",
    "df_vintage['Vintage'] = df_vintage['Signup Date'].apply(lambda x: today.date() - x.date())\n",
    "df_vintage['Vintage'] = df_vintage['Vintage'].apply(lambda x: str(x))\n",
    "df_vintage['Vintage'] = df_vintage['Vintage'].apply(lambda x: int(re.search(\"^\\d+\",x).group()))\n",
    "\n",
    "\n",
    "df_vintage = df_vintage.drop('Signup Date',axis=1)\n",
    "df_vintage"
   ]
  },
  {
   "cell_type": "markdown",
   "metadata": {},
   "source": [
    "### Get Most viewed products in 15 days\n",
    "\n",
    "1. Here the mode will be the aggregate function "
   ]
  },
  {
   "cell_type": "code",
   "execution_count": 16,
   "metadata": {},
   "outputs": [],
   "source": [
    "\n",
    "def date_diff(startdate,end=today,df=df_final_model):\n",
    "    dtx = today - pd.Timedelta(15,'D')\n",
    "    try:\n",
    "        if dtx.date() >= startdate.date() and df['Action'] == 'pageload':\n",
    "            res = True\n",
    "        else:\n",
    "            res = False\n",
    "        \n",
    "    except:\n",
    "        res = False\n",
    "        \n",
    "    return res\n",
    "    \n",
    "\n",
    "\n",
    "df_final_model['HasViewedProduct'] = df_final_model['VisitDateTime'].apply(date_diff)\n",
    "#df_final_model.groupby(by=['UserID','ProductID']).count()\n",
    "\n"
   ]
  },
  {
   "cell_type": "code",
   "execution_count": 17,
   "metadata": {},
   "outputs": [],
   "source": [
    "df_mostviewedproduct = df_final_model.groupby(by=['UserID','ProductID']).count()"
   ]
  },
  {
   "cell_type": "code",
   "execution_count": 18,
   "metadata": {},
   "outputs": [
    {
     "data": {
      "text/plain": [
       "MultiIndex([('U100002', 'Pr100258'),\n",
       "            ('U100002', 'Pr101097'),\n",
       "            ('U100003',      'Nan'),\n",
       "            ('U100003', 'Pr100079'),\n",
       "            ('U100003', 'Pr100178'),\n",
       "            ('U100004',      'Nan'),\n",
       "            ('U100004', 'Pr100005'),\n",
       "            ('U100004', 'Pr100069'),\n",
       "            ('U100004', 'Pr100142'),\n",
       "            ('U100004', 'Pr100197'),\n",
       "            ...\n",
       "            ('U136959', 'Pr100551'),\n",
       "            ('U136959', 'Pr100656'),\n",
       "            ('U136960', 'Pr100172'),\n",
       "            ('U136961', 'Pr101381'),\n",
       "            ('U136963',      'Nan'),\n",
       "            ('U136963', 'Pr100102'),\n",
       "            ('U136963', 'Pr100166'),\n",
       "            ('U136963', 'Pr100254'),\n",
       "            ('U136964', 'Pr100769'),\n",
       "            ('U136965', 'Pr100709')],\n",
       "           names=['UserID', 'ProductID'], length=127341)"
      ]
     },
     "execution_count": 18,
     "metadata": {},
     "output_type": "execute_result"
    }
   ],
   "source": [
    "users = df_user['UserID'].unique()\n",
    "\n",
    "df_mostviewedproduct.index"
   ]
  },
  {
   "cell_type": "markdown",
   "metadata": {},
   "source": [
    "### Lets do the group by activity"
   ]
  },
  {
   "cell_type": "code",
   "execution_count": 19,
   "metadata": {},
   "outputs": [],
   "source": [
    "df_mostviewedproduct = df_final_model.groupby(by=['UserID']).agg({\"ProductID\":lambda x: x.value_counts().index[0]})"
   ]
  },
  {
   "cell_type": "code",
   "execution_count": 20,
   "metadata": {},
   "outputs": [],
   "source": [
    "df_mostviewedproduct['ProductID'] = df_mostviewedproduct['ProductID'].apply(lambda x: x if x != 'Nan' else 'Product101')"
   ]
  },
  {
   "cell_type": "code",
   "execution_count": 21,
   "metadata": {},
   "outputs": [
    {
     "name": "stdout",
     "output_type": "stream",
     "text": [
      "         MostViewed\n",
      "UserID             \n",
      "U100002    Pr100258\n",
      "U100003    Pr100079\n",
      "U100004  Product101\n",
      "U100005    Pr100812\n",
      "U100006    Pr101111\n",
      "...             ...\n",
      "U136960    Pr100172\n",
      "U136961    Pr101381\n",
      "U136963    Pr100102\n",
      "U136964    Pr100769\n",
      "U136965    Pr100709\n",
      "\n",
      "[34050 rows x 1 columns]\n"
     ]
    }
   ],
   "source": [
    "df_mostviewedproduct = df_mostviewedproduct.rename(columns={'ProductID':'MostViewed'})\n",
    "print(df_mostviewedproduct)"
   ]
  },
  {
   "cell_type": "markdown",
   "metadata": {},
   "source": [
    "#### Now lets do most active os"
   ]
  },
  {
   "cell_type": "code",
   "execution_count": 22,
   "metadata": {},
   "outputs": [
    {
     "data": {
      "text/html": [
       "<div>\n",
       "<style scoped>\n",
       "    .dataframe tbody tr th:only-of-type {\n",
       "        vertical-align: middle;\n",
       "    }\n",
       "\n",
       "    .dataframe tbody tr th {\n",
       "        vertical-align: top;\n",
       "    }\n",
       "\n",
       "    .dataframe thead th {\n",
       "        text-align: right;\n",
       "    }\n",
       "</style>\n",
       "<table border=\"1\" class=\"dataframe\">\n",
       "  <thead>\n",
       "    <tr style=\"text-align: right;\">\n",
       "      <th></th>\n",
       "      <th>OS</th>\n",
       "    </tr>\n",
       "    <tr>\n",
       "      <th>UserID</th>\n",
       "      <th></th>\n",
       "    </tr>\n",
       "  </thead>\n",
       "  <tbody>\n",
       "    <tr>\n",
       "      <td>U100002</td>\n",
       "      <td>android</td>\n",
       "    </tr>\n",
       "    <tr>\n",
       "      <td>U100003</td>\n",
       "      <td>windows</td>\n",
       "    </tr>\n",
       "    <tr>\n",
       "      <td>U100004</td>\n",
       "      <td>windows</td>\n",
       "    </tr>\n",
       "    <tr>\n",
       "      <td>U100005</td>\n",
       "      <td>android</td>\n",
       "    </tr>\n",
       "    <tr>\n",
       "      <td>U100006</td>\n",
       "      <td>android</td>\n",
       "    </tr>\n",
       "    <tr>\n",
       "      <td>...</td>\n",
       "      <td>...</td>\n",
       "    </tr>\n",
       "    <tr>\n",
       "      <td>U136960</td>\n",
       "      <td>windows</td>\n",
       "    </tr>\n",
       "    <tr>\n",
       "      <td>U136961</td>\n",
       "      <td>android</td>\n",
       "    </tr>\n",
       "    <tr>\n",
       "      <td>U136963</td>\n",
       "      <td>android</td>\n",
       "    </tr>\n",
       "    <tr>\n",
       "      <td>U136964</td>\n",
       "      <td>windows</td>\n",
       "    </tr>\n",
       "    <tr>\n",
       "      <td>U136965</td>\n",
       "      <td>android</td>\n",
       "    </tr>\n",
       "  </tbody>\n",
       "</table>\n",
       "<p>34050 rows × 1 columns</p>\n",
       "</div>"
      ],
      "text/plain": [
       "              OS\n",
       "UserID          \n",
       "U100002  android\n",
       "U100003  windows\n",
       "U100004  windows\n",
       "U100005  android\n",
       "U100006  android\n",
       "...          ...\n",
       "U136960  windows\n",
       "U136961  android\n",
       "U136963  android\n",
       "U136964  windows\n",
       "U136965  android\n",
       "\n",
       "[34050 rows x 1 columns]"
      ]
     },
     "execution_count": 22,
     "metadata": {},
     "output_type": "execute_result"
    }
   ],
   "source": [
    "df_active_os = df_final_model.groupby(by=['UserID']).agg({\"OS\":lambda x: x.value_counts().index[0]})\n",
    "df_active_os['OS']=df_active_os['OS'].apply(lambda x :x.lower())\n",
    "df_active_os"
   ]
  },
  {
   "cell_type": "markdown",
   "metadata": {},
   "source": [
    "### Lets work on recently viewed product "
   ]
  },
  {
   "cell_type": "code",
   "execution_count": 23,
   "metadata": {},
   "outputs": [],
   "source": [
    "# df_recent_product  = df_final_model[['UserID',\"VisitDateTime\"]].groupby(by=\"UserID\").max()\n",
    "# df_recent_product.shape\n"
   ]
  },
  {
   "cell_type": "code",
   "execution_count": 24,
   "metadata": {},
   "outputs": [],
   "source": [
    "# df_recent_product = pd.merge(df_recent_product,df_final_model,on=['UserID','VisitDateTime'],how='inner')\n",
    "# df_recent_product = df_recent_product[[\"UserID\",\"ProductID\",\"Activity\",'VisitDateTime']].drop_duplicates()\n",
    "# print(df_recent_product.shape)\n",
    "\n",
    "# ### If visit date and Time is invalid then make the Product as Product101\n",
    "# df_recent_product.loc[df_recent_product['VisitDateTime'].isnull(),'ProductID'] = 'Product101'\n",
    "\n",
    "# ### Users that have loaded the pages.\n",
    "\n",
    "\n",
    "\n",
    "# df_recent_product_one = df_recent_product[df_recent_product[\"Activity\"] == 'pageload']\n",
    "\n",
    "\n",
    "# temp_df = df_recent_product[~(df_recent_product[\"UserID\"].isin(df_recent_product_one[\"UserID\"].unique()))]\n",
    "# temp_df['ProductID'] = 'Product101'\n",
    "\n",
    "\n",
    "# #df_recent_product = df_recent_product[df_recent_product[\"Activity\"] != 'pageload'].drop_duplicates()\n",
    "# pd.concat([df_recent_product_one,temp_df])#"
   ]
  },
  {
   "cell_type": "code",
   "execution_count": 25,
   "metadata": {},
   "outputs": [],
   "source": [
    "# df_recent_product = pd.concat([df_recent_product_one,temp_df]).drop_duplicates()\n",
    "\n",
    "\n",
    "# df_recent_product[\"Activity\"] = df_recent_product[\"Activity\"].apply(lambda x: \"invalid\" if x!='pageload' else x)\n",
    "# df_recent_product[\"ProductID\"] = df_recent_product[\"ProductID\"].apply(lambda a: a if a.lower() != 'nan' else 'Product101')\n",
    "# #df_recent_product[\"ProductID\"] = \n",
    "# df_recent_product = df_recent_product.sort_values(by='UserID')[[\"UserID\",\"ProductID\"]].drop_duplicates()"
   ]
  },
  {
   "cell_type": "code",
   "execution_count": 26,
   "metadata": {
    "scrolled": true
   },
   "outputs": [],
   "source": [
    "# df_recent_product[df_recent_product['UserID'] == 'U106330']\n",
    "\n",
    "# #df_final_model[df_final_model['UserID'] == 'U106330']\n",
    "# df_recent_product.shape"
   ]
  },
  {
   "cell_type": "markdown",
   "metadata": {},
   "source": [
    "### Imputing pageloads 7 days"
   ]
  },
  {
   "cell_type": "code",
   "execution_count": 27,
   "metadata": {},
   "outputs": [],
   "source": [
    "def group_users_activity(by,no_of_days,activity,df=df_final_model,today=today):\n",
    "    \n",
    "    startdate = today + pd.Timedelta(-1*no_of_days,'D')\n",
    "    \n",
    "    \n",
    "    \n",
    "    \n",
    "    df['IsActivity'] = (df[by] == activity)\n",
    "    #print(df['IsActivity'])\n",
    "    df['Has'+ activity] = (df['VisitDateTime'] >= startdate) & df['IsActivity']\n",
    "    \n",
    "     #print(df['Has'+ activity])\n",
    "    \n",
    "    df_grouped = df.loc[:,['UserID','Has' + activity]]\n",
    "    \n",
    "    df_grouped = df_grouped.groupby(by='UserID').sum()\n",
    "    \n",
    "    df = df.drop('Has' + activity, axis=1)\n",
    "    \n",
    "    return df_grouped"
   ]
  },
  {
   "cell_type": "code",
   "execution_count": 28,
   "metadata": {},
   "outputs": [
    {
     "data": {
      "text/html": [
       "<div>\n",
       "<style scoped>\n",
       "    .dataframe tbody tr th:only-of-type {\n",
       "        vertical-align: middle;\n",
       "    }\n",
       "\n",
       "    .dataframe tbody tr th {\n",
       "        vertical-align: top;\n",
       "    }\n",
       "\n",
       "    .dataframe thead th {\n",
       "        text-align: right;\n",
       "    }\n",
       "</style>\n",
       "<table border=\"1\" class=\"dataframe\">\n",
       "  <thead>\n",
       "    <tr style=\"text-align: right;\">\n",
       "      <th></th>\n",
       "      <th>Haspageload</th>\n",
       "    </tr>\n",
       "    <tr>\n",
       "      <th>UserID</th>\n",
       "      <th></th>\n",
       "    </tr>\n",
       "  </thead>\n",
       "  <tbody>\n",
       "    <tr>\n",
       "      <td>U100002</td>\n",
       "      <td>0.0</td>\n",
       "    </tr>\n",
       "    <tr>\n",
       "      <td>U100003</td>\n",
       "      <td>1.0</td>\n",
       "    </tr>\n",
       "    <tr>\n",
       "      <td>U100004</td>\n",
       "      <td>1.0</td>\n",
       "    </tr>\n",
       "    <tr>\n",
       "      <td>U100005</td>\n",
       "      <td>1.0</td>\n",
       "    </tr>\n",
       "    <tr>\n",
       "      <td>U100006</td>\n",
       "      <td>1.0</td>\n",
       "    </tr>\n",
       "    <tr>\n",
       "      <td>...</td>\n",
       "      <td>...</td>\n",
       "    </tr>\n",
       "    <tr>\n",
       "      <td>U136960</td>\n",
       "      <td>0.0</td>\n",
       "    </tr>\n",
       "    <tr>\n",
       "      <td>U136961</td>\n",
       "      <td>0.0</td>\n",
       "    </tr>\n",
       "    <tr>\n",
       "      <td>U136963</td>\n",
       "      <td>0.0</td>\n",
       "    </tr>\n",
       "    <tr>\n",
       "      <td>U136964</td>\n",
       "      <td>0.0</td>\n",
       "    </tr>\n",
       "    <tr>\n",
       "      <td>U136965</td>\n",
       "      <td>0.0</td>\n",
       "    </tr>\n",
       "  </tbody>\n",
       "</table>\n",
       "<p>34050 rows × 1 columns</p>\n",
       "</div>"
      ],
      "text/plain": [
       "         Haspageload\n",
       "UserID              \n",
       "U100002          0.0\n",
       "U100003          1.0\n",
       "U100004          1.0\n",
       "U100005          1.0\n",
       "U100006          1.0\n",
       "...              ...\n",
       "U136960          0.0\n",
       "U136961          0.0\n",
       "U136963          0.0\n",
       "U136964          0.0\n",
       "U136965          0.0\n",
       "\n",
       "[34050 rows x 1 columns]"
      ]
     },
     "execution_count": 28,
     "metadata": {},
     "output_type": "execute_result"
    }
   ],
   "source": [
    "df_pageLoads = group_users_activity('Activity',7,'pageload')\n",
    "df_pageLoads"
   ]
  },
  {
   "cell_type": "markdown",
   "metadata": {},
   "source": [
    "### Imputing clicks 7 days"
   ]
  },
  {
   "cell_type": "code",
   "execution_count": 29,
   "metadata": {},
   "outputs": [
    {
     "data": {
      "text/html": [
       "<div>\n",
       "<style scoped>\n",
       "    .dataframe tbody tr th:only-of-type {\n",
       "        vertical-align: middle;\n",
       "    }\n",
       "\n",
       "    .dataframe tbody tr th {\n",
       "        vertical-align: top;\n",
       "    }\n",
       "\n",
       "    .dataframe thead th {\n",
       "        text-align: right;\n",
       "    }\n",
       "</style>\n",
       "<table border=\"1\" class=\"dataframe\">\n",
       "  <thead>\n",
       "    <tr style=\"text-align: right;\">\n",
       "      <th></th>\n",
       "      <th>Hasclick</th>\n",
       "    </tr>\n",
       "    <tr>\n",
       "      <th>UserID</th>\n",
       "      <th></th>\n",
       "    </tr>\n",
       "  </thead>\n",
       "  <tbody>\n",
       "    <tr>\n",
       "      <td>U100002</td>\n",
       "      <td>0.0</td>\n",
       "    </tr>\n",
       "    <tr>\n",
       "      <td>U100003</td>\n",
       "      <td>2.0</td>\n",
       "    </tr>\n",
       "    <tr>\n",
       "      <td>U100004</td>\n",
       "      <td>0.0</td>\n",
       "    </tr>\n",
       "    <tr>\n",
       "      <td>U100005</td>\n",
       "      <td>0.0</td>\n",
       "    </tr>\n",
       "    <tr>\n",
       "      <td>U100006</td>\n",
       "      <td>0.0</td>\n",
       "    </tr>\n",
       "    <tr>\n",
       "      <td>...</td>\n",
       "      <td>...</td>\n",
       "    </tr>\n",
       "    <tr>\n",
       "      <td>U136960</td>\n",
       "      <td>0.0</td>\n",
       "    </tr>\n",
       "    <tr>\n",
       "      <td>U136961</td>\n",
       "      <td>0.0</td>\n",
       "    </tr>\n",
       "    <tr>\n",
       "      <td>U136963</td>\n",
       "      <td>0.0</td>\n",
       "    </tr>\n",
       "    <tr>\n",
       "      <td>U136964</td>\n",
       "      <td>0.0</td>\n",
       "    </tr>\n",
       "    <tr>\n",
       "      <td>U136965</td>\n",
       "      <td>0.0</td>\n",
       "    </tr>\n",
       "  </tbody>\n",
       "</table>\n",
       "<p>34050 rows × 1 columns</p>\n",
       "</div>"
      ],
      "text/plain": [
       "         Hasclick\n",
       "UserID           \n",
       "U100002       0.0\n",
       "U100003       2.0\n",
       "U100004       0.0\n",
       "U100005       0.0\n",
       "U100006       0.0\n",
       "...           ...\n",
       "U136960       0.0\n",
       "U136961       0.0\n",
       "U136963       0.0\n",
       "U136964       0.0\n",
       "U136965       0.0\n",
       "\n",
       "[34050 rows x 1 columns]"
      ]
     },
     "execution_count": 29,
     "metadata": {},
     "output_type": "execute_result"
    }
   ],
   "source": [
    "df_click = group_users_activity('Activity',7,'click')\n",
    "df_click"
   ]
  },
  {
   "cell_type": "markdown",
   "metadata": {},
   "source": [
    "### Let us find most recently product by user"
   ]
  },
  {
   "cell_type": "code",
   "execution_count": 30,
   "metadata": {},
   "outputs": [],
   "source": [
    "df_recent_product = df_final_model.groupby(by='UserID')[['VisitDateTime','Haspageload']].max()"
   ]
  },
  {
   "cell_type": "code",
   "execution_count": 31,
   "metadata": {},
   "outputs": [],
   "source": [
    "df_recent_product['UserID'] = df_recent_product.index\n",
    "df_recent_product.index.rename('Garbage',inplace=True)"
   ]
  },
  {
   "cell_type": "code",
   "execution_count": 32,
   "metadata": {},
   "outputs": [],
   "source": [
    "df_recent_product = pd.merge(df_recent_product,df_final_model[['UserID','VisitDateTime','ProductID']],on=['VisitDateTime','UserID'])"
   ]
  },
  {
   "cell_type": "code",
   "execution_count": 33,
   "metadata": {},
   "outputs": [],
   "source": [
    "df_recent_product = df_recent_product.drop_duplicates()\n",
    "\n",
    "df_recent_product.loc[df_recent_product['VisitDateTime'].isnull(),'ProductID'] = 'Product101'\n",
    "\n",
    "df_recent_product = df_recent_product.drop_duplicates()"
   ]
  },
  {
   "cell_type": "code",
   "execution_count": 34,
   "metadata": {},
   "outputs": [],
   "source": [
    "df_recent_product = df_recent_product.drop(['VisitDateTime','Haspageload'],axis=1)"
   ]
  },
  {
   "cell_type": "markdown",
   "metadata": {},
   "source": [
    "### Concatinate all results"
   ]
  },
  {
   "cell_type": "code",
   "execution_count": 35,
   "metadata": {},
   "outputs": [],
   "source": [
    "ans = pd.concat([df_feature_one,product_15days],axis=1)#,df_active_os,df_recent_product,df_pageLoads,df_click],axis=1)"
   ]
  },
  {
   "cell_type": "code",
   "execution_count": 36,
   "metadata": {},
   "outputs": [
    {
     "data": {
      "text/html": [
       "<div>\n",
       "<style scoped>\n",
       "    .dataframe tbody tr th:only-of-type {\n",
       "        vertical-align: middle;\n",
       "    }\n",
       "\n",
       "    .dataframe tbody tr th {\n",
       "        vertical-align: top;\n",
       "    }\n",
       "\n",
       "    .dataframe thead th {\n",
       "        text-align: right;\n",
       "    }\n",
       "</style>\n",
       "<table border=\"1\" class=\"dataframe\">\n",
       "  <thead>\n",
       "    <tr style=\"text-align: right;\">\n",
       "      <th></th>\n",
       "      <th>HasVisited</th>\n",
       "      <th>HasProductID</th>\n",
       "    </tr>\n",
       "    <tr>\n",
       "      <th>UserID</th>\n",
       "      <th></th>\n",
       "      <th></th>\n",
       "    </tr>\n",
       "  </thead>\n",
       "  <tbody>\n",
       "    <tr>\n",
       "      <td>U100002</td>\n",
       "      <td>0.0</td>\n",
       "      <td>2.0</td>\n",
       "    </tr>\n",
       "    <tr>\n",
       "      <td>U100003</td>\n",
       "      <td>1.0</td>\n",
       "      <td>3.0</td>\n",
       "    </tr>\n",
       "    <tr>\n",
       "      <td>U100004</td>\n",
       "      <td>1.0</td>\n",
       "      <td>16.0</td>\n",
       "    </tr>\n",
       "    <tr>\n",
       "      <td>U100005</td>\n",
       "      <td>1.0</td>\n",
       "      <td>3.0</td>\n",
       "    </tr>\n",
       "    <tr>\n",
       "      <td>U100006</td>\n",
       "      <td>1.0</td>\n",
       "      <td>1.0</td>\n",
       "    </tr>\n",
       "    <tr>\n",
       "      <td>...</td>\n",
       "      <td>...</td>\n",
       "      <td>...</td>\n",
       "    </tr>\n",
       "    <tr>\n",
       "      <td>U136960</td>\n",
       "      <td>0.0</td>\n",
       "      <td>0.0</td>\n",
       "    </tr>\n",
       "    <tr>\n",
       "      <td>U136961</td>\n",
       "      <td>0.0</td>\n",
       "      <td>0.0</td>\n",
       "    </tr>\n",
       "    <tr>\n",
       "      <td>U136963</td>\n",
       "      <td>0.0</td>\n",
       "      <td>0.0</td>\n",
       "    </tr>\n",
       "    <tr>\n",
       "      <td>U136964</td>\n",
       "      <td>0.0</td>\n",
       "      <td>0.0</td>\n",
       "    </tr>\n",
       "    <tr>\n",
       "      <td>U136965</td>\n",
       "      <td>0.0</td>\n",
       "      <td>0.0</td>\n",
       "    </tr>\n",
       "  </tbody>\n",
       "</table>\n",
       "<p>34050 rows × 2 columns</p>\n",
       "</div>"
      ],
      "text/plain": [
       "         HasVisited  HasProductID\n",
       "UserID                           \n",
       "U100002         0.0           2.0\n",
       "U100003         1.0           3.0\n",
       "U100004         1.0          16.0\n",
       "U100005         1.0           3.0\n",
       "U100006         1.0           1.0\n",
       "...             ...           ...\n",
       "U136960         0.0           0.0\n",
       "U136961         0.0           0.0\n",
       "U136963         0.0           0.0\n",
       "U136964         0.0           0.0\n",
       "U136965         0.0           0.0\n",
       "\n",
       "[34050 rows x 2 columns]"
      ]
     },
     "execution_count": 36,
     "metadata": {},
     "output_type": "execute_result"
    }
   ],
   "source": [
    "ans"
   ]
  },
  {
   "cell_type": "code",
   "execution_count": 37,
   "metadata": {},
   "outputs": [],
   "source": [
    "df_vintage = df_vintage.sort_values(by='UserID')\n",
    "\n",
    "ans = pd.merge(df_vintage,ans,on='UserID')"
   ]
  },
  {
   "cell_type": "code",
   "execution_count": 38,
   "metadata": {},
   "outputs": [
    {
     "data": {
      "text/html": [
       "<div>\n",
       "<style scoped>\n",
       "    .dataframe tbody tr th:only-of-type {\n",
       "        vertical-align: middle;\n",
       "    }\n",
       "\n",
       "    .dataframe tbody tr th {\n",
       "        vertical-align: top;\n",
       "    }\n",
       "\n",
       "    .dataframe thead th {\n",
       "        text-align: right;\n",
       "    }\n",
       "</style>\n",
       "<table border=\"1\" class=\"dataframe\">\n",
       "  <thead>\n",
       "    <tr style=\"text-align: right;\">\n",
       "      <th></th>\n",
       "      <th>UserID</th>\n",
       "      <th>OS</th>\n",
       "      <th>Vintage</th>\n",
       "      <th>HasVisited</th>\n",
       "      <th>HasProductID</th>\n",
       "    </tr>\n",
       "  </thead>\n",
       "  <tbody>\n",
       "    <tr>\n",
       "      <td>0</td>\n",
       "      <td>U100002</td>\n",
       "      <td>android</td>\n",
       "      <td>53</td>\n",
       "      <td>0.0</td>\n",
       "      <td>2.0</td>\n",
       "    </tr>\n",
       "    <tr>\n",
       "      <td>1</td>\n",
       "      <td>U100003</td>\n",
       "      <td>windows</td>\n",
       "      <td>1021</td>\n",
       "      <td>1.0</td>\n",
       "      <td>3.0</td>\n",
       "    </tr>\n",
       "    <tr>\n",
       "      <td>2</td>\n",
       "      <td>U100004</td>\n",
       "      <td>windows</td>\n",
       "      <td>341</td>\n",
       "      <td>1.0</td>\n",
       "      <td>16.0</td>\n",
       "    </tr>\n",
       "    <tr>\n",
       "      <td>3</td>\n",
       "      <td>U100005</td>\n",
       "      <td>android</td>\n",
       "      <td>681</td>\n",
       "      <td>1.0</td>\n",
       "      <td>3.0</td>\n",
       "    </tr>\n",
       "    <tr>\n",
       "      <td>4</td>\n",
       "      <td>U100006</td>\n",
       "      <td>android</td>\n",
       "      <td>55</td>\n",
       "      <td>1.0</td>\n",
       "      <td>1.0</td>\n",
       "    </tr>\n",
       "    <tr>\n",
       "      <td>...</td>\n",
       "      <td>...</td>\n",
       "      <td>...</td>\n",
       "      <td>...</td>\n",
       "      <td>...</td>\n",
       "      <td>...</td>\n",
       "    </tr>\n",
       "    <tr>\n",
       "      <td>34045</td>\n",
       "      <td>U136960</td>\n",
       "      <td>windows</td>\n",
       "      <td>755</td>\n",
       "      <td>0.0</td>\n",
       "      <td>0.0</td>\n",
       "    </tr>\n",
       "    <tr>\n",
       "      <td>34046</td>\n",
       "      <td>U136961</td>\n",
       "      <td>android</td>\n",
       "      <td>60</td>\n",
       "      <td>0.0</td>\n",
       "      <td>0.0</td>\n",
       "    </tr>\n",
       "    <tr>\n",
       "      <td>34047</td>\n",
       "      <td>U136963</td>\n",
       "      <td>android</td>\n",
       "      <td>1420</td>\n",
       "      <td>0.0</td>\n",
       "      <td>0.0</td>\n",
       "    </tr>\n",
       "    <tr>\n",
       "      <td>34048</td>\n",
       "      <td>U136964</td>\n",
       "      <td>windows</td>\n",
       "      <td>495</td>\n",
       "      <td>0.0</td>\n",
       "      <td>0.0</td>\n",
       "    </tr>\n",
       "    <tr>\n",
       "      <td>34049</td>\n",
       "      <td>U136965</td>\n",
       "      <td>android</td>\n",
       "      <td>243</td>\n",
       "      <td>0.0</td>\n",
       "      <td>0.0</td>\n",
       "    </tr>\n",
       "  </tbody>\n",
       "</table>\n",
       "<p>34050 rows × 5 columns</p>\n",
       "</div>"
      ],
      "text/plain": [
       "        UserID       OS  Vintage  HasVisited  HasProductID\n",
       "0      U100002  android       53         0.0           2.0\n",
       "1      U100003  windows     1021         1.0           3.0\n",
       "2      U100004  windows      341         1.0          16.0\n",
       "3      U100005  android      681         1.0           3.0\n",
       "4      U100006  android       55         1.0           1.0\n",
       "...        ...      ...      ...         ...           ...\n",
       "34045  U136960  windows      755         0.0           0.0\n",
       "34046  U136961  android       60         0.0           0.0\n",
       "34047  U136963  android     1420         0.0           0.0\n",
       "34048  U136964  windows      495         0.0           0.0\n",
       "34049  U136965  android      243         0.0           0.0\n",
       "\n",
       "[34050 rows x 5 columns]"
      ]
     },
     "execution_count": 38,
     "metadata": {},
     "output_type": "execute_result"
    }
   ],
   "source": [
    "ans = pd.merge(df_active_os,ans,on='UserID')\n",
    "ans"
   ]
  },
  {
   "cell_type": "code",
   "execution_count": 39,
   "metadata": {
    "scrolled": true
   },
   "outputs": [
    {
     "data": {
      "text/html": [
       "<div>\n",
       "<style scoped>\n",
       "    .dataframe tbody tr th:only-of-type {\n",
       "        vertical-align: middle;\n",
       "    }\n",
       "\n",
       "    .dataframe tbody tr th {\n",
       "        vertical-align: top;\n",
       "    }\n",
       "\n",
       "    .dataframe thead th {\n",
       "        text-align: right;\n",
       "    }\n",
       "</style>\n",
       "<table border=\"1\" class=\"dataframe\">\n",
       "  <thead>\n",
       "    <tr style=\"text-align: right;\">\n",
       "      <th></th>\n",
       "      <th>UserID</th>\n",
       "      <th>ProductID</th>\n",
       "      <th>OS</th>\n",
       "      <th>Vintage</th>\n",
       "      <th>HasVisited</th>\n",
       "      <th>HasProductID</th>\n",
       "    </tr>\n",
       "  </thead>\n",
       "  <tbody>\n",
       "    <tr>\n",
       "      <td>0</td>\n",
       "      <td>U100002</td>\n",
       "      <td>Pr100258</td>\n",
       "      <td>android</td>\n",
       "      <td>53</td>\n",
       "      <td>0.0</td>\n",
       "      <td>2.0</td>\n",
       "    </tr>\n",
       "    <tr>\n",
       "      <td>1</td>\n",
       "      <td>U100003</td>\n",
       "      <td>Nan</td>\n",
       "      <td>windows</td>\n",
       "      <td>1021</td>\n",
       "      <td>1.0</td>\n",
       "      <td>3.0</td>\n",
       "    </tr>\n",
       "    <tr>\n",
       "      <td>2</td>\n",
       "      <td>U100004</td>\n",
       "      <td>Nan</td>\n",
       "      <td>windows</td>\n",
       "      <td>341</td>\n",
       "      <td>1.0</td>\n",
       "      <td>16.0</td>\n",
       "    </tr>\n",
       "    <tr>\n",
       "      <td>3</td>\n",
       "      <td>U100005</td>\n",
       "      <td>Pr100234</td>\n",
       "      <td>android</td>\n",
       "      <td>681</td>\n",
       "      <td>1.0</td>\n",
       "      <td>3.0</td>\n",
       "    </tr>\n",
       "    <tr>\n",
       "      <td>4</td>\n",
       "      <td>U100006</td>\n",
       "      <td>Pr101111</td>\n",
       "      <td>android</td>\n",
       "      <td>55</td>\n",
       "      <td>1.0</td>\n",
       "      <td>1.0</td>\n",
       "    </tr>\n",
       "    <tr>\n",
       "      <td>...</td>\n",
       "      <td>...</td>\n",
       "      <td>...</td>\n",
       "      <td>...</td>\n",
       "      <td>...</td>\n",
       "      <td>...</td>\n",
       "      <td>...</td>\n",
       "    </tr>\n",
       "    <tr>\n",
       "      <td>34045</td>\n",
       "      <td>U136960</td>\n",
       "      <td>Pr100172</td>\n",
       "      <td>windows</td>\n",
       "      <td>755</td>\n",
       "      <td>0.0</td>\n",
       "      <td>0.0</td>\n",
       "    </tr>\n",
       "    <tr>\n",
       "      <td>34046</td>\n",
       "      <td>U136961</td>\n",
       "      <td>Pr101381</td>\n",
       "      <td>android</td>\n",
       "      <td>60</td>\n",
       "      <td>0.0</td>\n",
       "      <td>0.0</td>\n",
       "    </tr>\n",
       "    <tr>\n",
       "      <td>34047</td>\n",
       "      <td>U136963</td>\n",
       "      <td>Pr100166</td>\n",
       "      <td>android</td>\n",
       "      <td>1420</td>\n",
       "      <td>0.0</td>\n",
       "      <td>0.0</td>\n",
       "    </tr>\n",
       "    <tr>\n",
       "      <td>34048</td>\n",
       "      <td>U136964</td>\n",
       "      <td>Pr100769</td>\n",
       "      <td>windows</td>\n",
       "      <td>495</td>\n",
       "      <td>0.0</td>\n",
       "      <td>0.0</td>\n",
       "    </tr>\n",
       "    <tr>\n",
       "      <td>34049</td>\n",
       "      <td>U136965</td>\n",
       "      <td>Pr100709</td>\n",
       "      <td>android</td>\n",
       "      <td>243</td>\n",
       "      <td>0.0</td>\n",
       "      <td>0.0</td>\n",
       "    </tr>\n",
       "  </tbody>\n",
       "</table>\n",
       "<p>34050 rows × 6 columns</p>\n",
       "</div>"
      ],
      "text/plain": [
       "        UserID ProductID       OS  Vintage  HasVisited  HasProductID\n",
       "0      U100002  Pr100258  android       53         0.0           2.0\n",
       "1      U100003       Nan  windows     1021         1.0           3.0\n",
       "2      U100004       Nan  windows      341         1.0          16.0\n",
       "3      U100005  Pr100234  android      681         1.0           3.0\n",
       "4      U100006  Pr101111  android       55         1.0           1.0\n",
       "...        ...       ...      ...      ...         ...           ...\n",
       "34045  U136960  Pr100172  windows      755         0.0           0.0\n",
       "34046  U136961  Pr101381  android       60         0.0           0.0\n",
       "34047  U136963  Pr100166  android     1420         0.0           0.0\n",
       "34048  U136964  Pr100769  windows      495         0.0           0.0\n",
       "34049  U136965  Pr100709  android      243         0.0           0.0\n",
       "\n",
       "[34050 rows x 6 columns]"
      ]
     },
     "execution_count": 39,
     "metadata": {},
     "output_type": "execute_result"
    }
   ],
   "source": [
    "ans = pd.merge(df_recent_product,ans,on='UserID')\n",
    "ans"
   ]
  },
  {
   "cell_type": "code",
   "execution_count": 40,
   "metadata": {},
   "outputs": [
    {
     "data": {
      "text/html": [
       "<div>\n",
       "<style scoped>\n",
       "    .dataframe tbody tr th:only-of-type {\n",
       "        vertical-align: middle;\n",
       "    }\n",
       "\n",
       "    .dataframe tbody tr th {\n",
       "        vertical-align: top;\n",
       "    }\n",
       "\n",
       "    .dataframe thead th {\n",
       "        text-align: right;\n",
       "    }\n",
       "</style>\n",
       "<table border=\"1\" class=\"dataframe\">\n",
       "  <thead>\n",
       "    <tr style=\"text-align: right;\">\n",
       "      <th></th>\n",
       "      <th>UserID</th>\n",
       "      <th>Haspageload</th>\n",
       "      <th>ProductID</th>\n",
       "      <th>OS</th>\n",
       "      <th>Vintage</th>\n",
       "      <th>HasVisited</th>\n",
       "      <th>HasProductID</th>\n",
       "    </tr>\n",
       "  </thead>\n",
       "  <tbody>\n",
       "    <tr>\n",
       "      <td>0</td>\n",
       "      <td>U100002</td>\n",
       "      <td>0.0</td>\n",
       "      <td>Pr100258</td>\n",
       "      <td>android</td>\n",
       "      <td>53</td>\n",
       "      <td>0.0</td>\n",
       "      <td>2.0</td>\n",
       "    </tr>\n",
       "    <tr>\n",
       "      <td>1</td>\n",
       "      <td>U100003</td>\n",
       "      <td>1.0</td>\n",
       "      <td>Nan</td>\n",
       "      <td>windows</td>\n",
       "      <td>1021</td>\n",
       "      <td>1.0</td>\n",
       "      <td>3.0</td>\n",
       "    </tr>\n",
       "    <tr>\n",
       "      <td>2</td>\n",
       "      <td>U100004</td>\n",
       "      <td>1.0</td>\n",
       "      <td>Nan</td>\n",
       "      <td>windows</td>\n",
       "      <td>341</td>\n",
       "      <td>1.0</td>\n",
       "      <td>16.0</td>\n",
       "    </tr>\n",
       "    <tr>\n",
       "      <td>3</td>\n",
       "      <td>U100005</td>\n",
       "      <td>1.0</td>\n",
       "      <td>Pr100234</td>\n",
       "      <td>android</td>\n",
       "      <td>681</td>\n",
       "      <td>1.0</td>\n",
       "      <td>3.0</td>\n",
       "    </tr>\n",
       "    <tr>\n",
       "      <td>4</td>\n",
       "      <td>U100006</td>\n",
       "      <td>1.0</td>\n",
       "      <td>Pr101111</td>\n",
       "      <td>android</td>\n",
       "      <td>55</td>\n",
       "      <td>1.0</td>\n",
       "      <td>1.0</td>\n",
       "    </tr>\n",
       "    <tr>\n",
       "      <td>...</td>\n",
       "      <td>...</td>\n",
       "      <td>...</td>\n",
       "      <td>...</td>\n",
       "      <td>...</td>\n",
       "      <td>...</td>\n",
       "      <td>...</td>\n",
       "      <td>...</td>\n",
       "    </tr>\n",
       "    <tr>\n",
       "      <td>34045</td>\n",
       "      <td>U136960</td>\n",
       "      <td>0.0</td>\n",
       "      <td>Pr100172</td>\n",
       "      <td>windows</td>\n",
       "      <td>755</td>\n",
       "      <td>0.0</td>\n",
       "      <td>0.0</td>\n",
       "    </tr>\n",
       "    <tr>\n",
       "      <td>34046</td>\n",
       "      <td>U136961</td>\n",
       "      <td>0.0</td>\n",
       "      <td>Pr101381</td>\n",
       "      <td>android</td>\n",
       "      <td>60</td>\n",
       "      <td>0.0</td>\n",
       "      <td>0.0</td>\n",
       "    </tr>\n",
       "    <tr>\n",
       "      <td>34047</td>\n",
       "      <td>U136963</td>\n",
       "      <td>0.0</td>\n",
       "      <td>Pr100166</td>\n",
       "      <td>android</td>\n",
       "      <td>1420</td>\n",
       "      <td>0.0</td>\n",
       "      <td>0.0</td>\n",
       "    </tr>\n",
       "    <tr>\n",
       "      <td>34048</td>\n",
       "      <td>U136964</td>\n",
       "      <td>0.0</td>\n",
       "      <td>Pr100769</td>\n",
       "      <td>windows</td>\n",
       "      <td>495</td>\n",
       "      <td>0.0</td>\n",
       "      <td>0.0</td>\n",
       "    </tr>\n",
       "    <tr>\n",
       "      <td>34049</td>\n",
       "      <td>U136965</td>\n",
       "      <td>0.0</td>\n",
       "      <td>Pr100709</td>\n",
       "      <td>android</td>\n",
       "      <td>243</td>\n",
       "      <td>0.0</td>\n",
       "      <td>0.0</td>\n",
       "    </tr>\n",
       "  </tbody>\n",
       "</table>\n",
       "<p>34050 rows × 7 columns</p>\n",
       "</div>"
      ],
      "text/plain": [
       "        UserID  Haspageload ProductID       OS  Vintage  HasVisited  \\\n",
       "0      U100002          0.0  Pr100258  android       53         0.0   \n",
       "1      U100003          1.0       Nan  windows     1021         1.0   \n",
       "2      U100004          1.0       Nan  windows      341         1.0   \n",
       "3      U100005          1.0  Pr100234  android      681         1.0   \n",
       "4      U100006          1.0  Pr101111  android       55         1.0   \n",
       "...        ...          ...       ...      ...      ...         ...   \n",
       "34045  U136960          0.0  Pr100172  windows      755         0.0   \n",
       "34046  U136961          0.0  Pr101381  android       60         0.0   \n",
       "34047  U136963          0.0  Pr100166  android     1420         0.0   \n",
       "34048  U136964          0.0  Pr100769  windows      495         0.0   \n",
       "34049  U136965          0.0  Pr100709  android      243         0.0   \n",
       "\n",
       "       HasProductID  \n",
       "0               2.0  \n",
       "1               3.0  \n",
       "2              16.0  \n",
       "3               3.0  \n",
       "4               1.0  \n",
       "...             ...  \n",
       "34045           0.0  \n",
       "34046           0.0  \n",
       "34047           0.0  \n",
       "34048           0.0  \n",
       "34049           0.0  \n",
       "\n",
       "[34050 rows x 7 columns]"
      ]
     },
     "execution_count": 40,
     "metadata": {},
     "output_type": "execute_result"
    }
   ],
   "source": [
    "\n",
    "ans = pd.merge(df_pageLoads,ans,on='UserID')\n",
    "ans"
   ]
  },
  {
   "cell_type": "code",
   "execution_count": 41,
   "metadata": {},
   "outputs": [
    {
     "data": {
      "text/html": [
       "<div>\n",
       "<style scoped>\n",
       "    .dataframe tbody tr th:only-of-type {\n",
       "        vertical-align: middle;\n",
       "    }\n",
       "\n",
       "    .dataframe tbody tr th {\n",
       "        vertical-align: top;\n",
       "    }\n",
       "\n",
       "    .dataframe thead th {\n",
       "        text-align: right;\n",
       "    }\n",
       "</style>\n",
       "<table border=\"1\" class=\"dataframe\">\n",
       "  <thead>\n",
       "    <tr style=\"text-align: right;\">\n",
       "      <th></th>\n",
       "      <th>UserID</th>\n",
       "      <th>Hasclick</th>\n",
       "      <th>Haspageload</th>\n",
       "      <th>ProductID</th>\n",
       "      <th>OS</th>\n",
       "      <th>Vintage</th>\n",
       "      <th>HasVisited</th>\n",
       "      <th>HasProductID</th>\n",
       "    </tr>\n",
       "  </thead>\n",
       "  <tbody>\n",
       "    <tr>\n",
       "      <td>0</td>\n",
       "      <td>U100002</td>\n",
       "      <td>0.0</td>\n",
       "      <td>0.0</td>\n",
       "      <td>Pr100258</td>\n",
       "      <td>android</td>\n",
       "      <td>53</td>\n",
       "      <td>0.0</td>\n",
       "      <td>2.0</td>\n",
       "    </tr>\n",
       "    <tr>\n",
       "      <td>1</td>\n",
       "      <td>U100003</td>\n",
       "      <td>2.0</td>\n",
       "      <td>1.0</td>\n",
       "      <td>Nan</td>\n",
       "      <td>windows</td>\n",
       "      <td>1021</td>\n",
       "      <td>1.0</td>\n",
       "      <td>3.0</td>\n",
       "    </tr>\n",
       "    <tr>\n",
       "      <td>2</td>\n",
       "      <td>U100004</td>\n",
       "      <td>0.0</td>\n",
       "      <td>1.0</td>\n",
       "      <td>Nan</td>\n",
       "      <td>windows</td>\n",
       "      <td>341</td>\n",
       "      <td>1.0</td>\n",
       "      <td>16.0</td>\n",
       "    </tr>\n",
       "    <tr>\n",
       "      <td>3</td>\n",
       "      <td>U100005</td>\n",
       "      <td>0.0</td>\n",
       "      <td>1.0</td>\n",
       "      <td>Pr100234</td>\n",
       "      <td>android</td>\n",
       "      <td>681</td>\n",
       "      <td>1.0</td>\n",
       "      <td>3.0</td>\n",
       "    </tr>\n",
       "    <tr>\n",
       "      <td>4</td>\n",
       "      <td>U100006</td>\n",
       "      <td>0.0</td>\n",
       "      <td>1.0</td>\n",
       "      <td>Pr101111</td>\n",
       "      <td>android</td>\n",
       "      <td>55</td>\n",
       "      <td>1.0</td>\n",
       "      <td>1.0</td>\n",
       "    </tr>\n",
       "    <tr>\n",
       "      <td>...</td>\n",
       "      <td>...</td>\n",
       "      <td>...</td>\n",
       "      <td>...</td>\n",
       "      <td>...</td>\n",
       "      <td>...</td>\n",
       "      <td>...</td>\n",
       "      <td>...</td>\n",
       "      <td>...</td>\n",
       "    </tr>\n",
       "    <tr>\n",
       "      <td>34045</td>\n",
       "      <td>U136960</td>\n",
       "      <td>0.0</td>\n",
       "      <td>0.0</td>\n",
       "      <td>Pr100172</td>\n",
       "      <td>windows</td>\n",
       "      <td>755</td>\n",
       "      <td>0.0</td>\n",
       "      <td>0.0</td>\n",
       "    </tr>\n",
       "    <tr>\n",
       "      <td>34046</td>\n",
       "      <td>U136961</td>\n",
       "      <td>0.0</td>\n",
       "      <td>0.0</td>\n",
       "      <td>Pr101381</td>\n",
       "      <td>android</td>\n",
       "      <td>60</td>\n",
       "      <td>0.0</td>\n",
       "      <td>0.0</td>\n",
       "    </tr>\n",
       "    <tr>\n",
       "      <td>34047</td>\n",
       "      <td>U136963</td>\n",
       "      <td>0.0</td>\n",
       "      <td>0.0</td>\n",
       "      <td>Pr100166</td>\n",
       "      <td>android</td>\n",
       "      <td>1420</td>\n",
       "      <td>0.0</td>\n",
       "      <td>0.0</td>\n",
       "    </tr>\n",
       "    <tr>\n",
       "      <td>34048</td>\n",
       "      <td>U136964</td>\n",
       "      <td>0.0</td>\n",
       "      <td>0.0</td>\n",
       "      <td>Pr100769</td>\n",
       "      <td>windows</td>\n",
       "      <td>495</td>\n",
       "      <td>0.0</td>\n",
       "      <td>0.0</td>\n",
       "    </tr>\n",
       "    <tr>\n",
       "      <td>34049</td>\n",
       "      <td>U136965</td>\n",
       "      <td>0.0</td>\n",
       "      <td>0.0</td>\n",
       "      <td>Pr100709</td>\n",
       "      <td>android</td>\n",
       "      <td>243</td>\n",
       "      <td>0.0</td>\n",
       "      <td>0.0</td>\n",
       "    </tr>\n",
       "  </tbody>\n",
       "</table>\n",
       "<p>34050 rows × 8 columns</p>\n",
       "</div>"
      ],
      "text/plain": [
       "        UserID  Hasclick  Haspageload ProductID       OS  Vintage  HasVisited  \\\n",
       "0      U100002       0.0          0.0  Pr100258  android       53         0.0   \n",
       "1      U100003       2.0          1.0       Nan  windows     1021         1.0   \n",
       "2      U100004       0.0          1.0       Nan  windows      341         1.0   \n",
       "3      U100005       0.0          1.0  Pr100234  android      681         1.0   \n",
       "4      U100006       0.0          1.0  Pr101111  android       55         1.0   \n",
       "...        ...       ...          ...       ...      ...      ...         ...   \n",
       "34045  U136960       0.0          0.0  Pr100172  windows      755         0.0   \n",
       "34046  U136961       0.0          0.0  Pr101381  android       60         0.0   \n",
       "34047  U136963       0.0          0.0  Pr100166  android     1420         0.0   \n",
       "34048  U136964       0.0          0.0  Pr100769  windows      495         0.0   \n",
       "34049  U136965       0.0          0.0  Pr100709  android      243         0.0   \n",
       "\n",
       "       HasProductID  \n",
       "0               2.0  \n",
       "1               3.0  \n",
       "2              16.0  \n",
       "3               3.0  \n",
       "4               1.0  \n",
       "...             ...  \n",
       "34045           0.0  \n",
       "34046           0.0  \n",
       "34047           0.0  \n",
       "34048           0.0  \n",
       "34049           0.0  \n",
       "\n",
       "[34050 rows x 8 columns]"
      ]
     },
     "execution_count": 41,
     "metadata": {},
     "output_type": "execute_result"
    }
   ],
   "source": [
    "ans = pd.merge(df_click,ans,on='UserID')\n",
    "ans"
   ]
  },
  {
   "cell_type": "code",
   "execution_count": 42,
   "metadata": {},
   "outputs": [
    {
     "data": {
      "text/html": [
       "<div>\n",
       "<style scoped>\n",
       "    .dataframe tbody tr th:only-of-type {\n",
       "        vertical-align: middle;\n",
       "    }\n",
       "\n",
       "    .dataframe tbody tr th {\n",
       "        vertical-align: top;\n",
       "    }\n",
       "\n",
       "    .dataframe thead th {\n",
       "        text-align: right;\n",
       "    }\n",
       "</style>\n",
       "<table border=\"1\" class=\"dataframe\">\n",
       "  <thead>\n",
       "    <tr style=\"text-align: right;\">\n",
       "      <th></th>\n",
       "      <th>UserID</th>\n",
       "      <th>MostViewed</th>\n",
       "      <th>Hasclick</th>\n",
       "      <th>Haspageload</th>\n",
       "      <th>ProductID</th>\n",
       "      <th>OS</th>\n",
       "      <th>Vintage</th>\n",
       "      <th>HasVisited</th>\n",
       "      <th>HasProductID</th>\n",
       "    </tr>\n",
       "  </thead>\n",
       "  <tbody>\n",
       "    <tr>\n",
       "      <td>0</td>\n",
       "      <td>U100002</td>\n",
       "      <td>Pr100258</td>\n",
       "      <td>0.0</td>\n",
       "      <td>0.0</td>\n",
       "      <td>Pr100258</td>\n",
       "      <td>android</td>\n",
       "      <td>53</td>\n",
       "      <td>0.0</td>\n",
       "      <td>2.0</td>\n",
       "    </tr>\n",
       "    <tr>\n",
       "      <td>1</td>\n",
       "      <td>U100003</td>\n",
       "      <td>Pr100079</td>\n",
       "      <td>2.0</td>\n",
       "      <td>1.0</td>\n",
       "      <td>Nan</td>\n",
       "      <td>windows</td>\n",
       "      <td>1021</td>\n",
       "      <td>1.0</td>\n",
       "      <td>3.0</td>\n",
       "    </tr>\n",
       "    <tr>\n",
       "      <td>2</td>\n",
       "      <td>U100004</td>\n",
       "      <td>Product101</td>\n",
       "      <td>0.0</td>\n",
       "      <td>1.0</td>\n",
       "      <td>Nan</td>\n",
       "      <td>windows</td>\n",
       "      <td>341</td>\n",
       "      <td>1.0</td>\n",
       "      <td>16.0</td>\n",
       "    </tr>\n",
       "    <tr>\n",
       "      <td>3</td>\n",
       "      <td>U100005</td>\n",
       "      <td>Pr100812</td>\n",
       "      <td>0.0</td>\n",
       "      <td>1.0</td>\n",
       "      <td>Pr100234</td>\n",
       "      <td>android</td>\n",
       "      <td>681</td>\n",
       "      <td>1.0</td>\n",
       "      <td>3.0</td>\n",
       "    </tr>\n",
       "    <tr>\n",
       "      <td>4</td>\n",
       "      <td>U100006</td>\n",
       "      <td>Pr101111</td>\n",
       "      <td>0.0</td>\n",
       "      <td>1.0</td>\n",
       "      <td>Pr101111</td>\n",
       "      <td>android</td>\n",
       "      <td>55</td>\n",
       "      <td>1.0</td>\n",
       "      <td>1.0</td>\n",
       "    </tr>\n",
       "    <tr>\n",
       "      <td>...</td>\n",
       "      <td>...</td>\n",
       "      <td>...</td>\n",
       "      <td>...</td>\n",
       "      <td>...</td>\n",
       "      <td>...</td>\n",
       "      <td>...</td>\n",
       "      <td>...</td>\n",
       "      <td>...</td>\n",
       "      <td>...</td>\n",
       "    </tr>\n",
       "    <tr>\n",
       "      <td>34045</td>\n",
       "      <td>U136960</td>\n",
       "      <td>Pr100172</td>\n",
       "      <td>0.0</td>\n",
       "      <td>0.0</td>\n",
       "      <td>Pr100172</td>\n",
       "      <td>windows</td>\n",
       "      <td>755</td>\n",
       "      <td>0.0</td>\n",
       "      <td>0.0</td>\n",
       "    </tr>\n",
       "    <tr>\n",
       "      <td>34046</td>\n",
       "      <td>U136961</td>\n",
       "      <td>Pr101381</td>\n",
       "      <td>0.0</td>\n",
       "      <td>0.0</td>\n",
       "      <td>Pr101381</td>\n",
       "      <td>android</td>\n",
       "      <td>60</td>\n",
       "      <td>0.0</td>\n",
       "      <td>0.0</td>\n",
       "    </tr>\n",
       "    <tr>\n",
       "      <td>34047</td>\n",
       "      <td>U136963</td>\n",
       "      <td>Pr100102</td>\n",
       "      <td>0.0</td>\n",
       "      <td>0.0</td>\n",
       "      <td>Pr100166</td>\n",
       "      <td>android</td>\n",
       "      <td>1420</td>\n",
       "      <td>0.0</td>\n",
       "      <td>0.0</td>\n",
       "    </tr>\n",
       "    <tr>\n",
       "      <td>34048</td>\n",
       "      <td>U136964</td>\n",
       "      <td>Pr100769</td>\n",
       "      <td>0.0</td>\n",
       "      <td>0.0</td>\n",
       "      <td>Pr100769</td>\n",
       "      <td>windows</td>\n",
       "      <td>495</td>\n",
       "      <td>0.0</td>\n",
       "      <td>0.0</td>\n",
       "    </tr>\n",
       "    <tr>\n",
       "      <td>34049</td>\n",
       "      <td>U136965</td>\n",
       "      <td>Pr100709</td>\n",
       "      <td>0.0</td>\n",
       "      <td>0.0</td>\n",
       "      <td>Pr100709</td>\n",
       "      <td>android</td>\n",
       "      <td>243</td>\n",
       "      <td>0.0</td>\n",
       "      <td>0.0</td>\n",
       "    </tr>\n",
       "  </tbody>\n",
       "</table>\n",
       "<p>34050 rows × 9 columns</p>\n",
       "</div>"
      ],
      "text/plain": [
       "        UserID  MostViewed  Hasclick  Haspageload ProductID       OS  Vintage  \\\n",
       "0      U100002    Pr100258       0.0          0.0  Pr100258  android       53   \n",
       "1      U100003    Pr100079       2.0          1.0       Nan  windows     1021   \n",
       "2      U100004  Product101       0.0          1.0       Nan  windows      341   \n",
       "3      U100005    Pr100812       0.0          1.0  Pr100234  android      681   \n",
       "4      U100006    Pr101111       0.0          1.0  Pr101111  android       55   \n",
       "...        ...         ...       ...          ...       ...      ...      ...   \n",
       "34045  U136960    Pr100172       0.0          0.0  Pr100172  windows      755   \n",
       "34046  U136961    Pr101381       0.0          0.0  Pr101381  android       60   \n",
       "34047  U136963    Pr100102       0.0          0.0  Pr100166  android     1420   \n",
       "34048  U136964    Pr100769       0.0          0.0  Pr100769  windows      495   \n",
       "34049  U136965    Pr100709       0.0          0.0  Pr100709  android      243   \n",
       "\n",
       "       HasVisited  HasProductID  \n",
       "0             0.0           2.0  \n",
       "1             1.0           3.0  \n",
       "2             1.0          16.0  \n",
       "3             1.0           3.0  \n",
       "4             1.0           1.0  \n",
       "...           ...           ...  \n",
       "34045         0.0           0.0  \n",
       "34046         0.0           0.0  \n",
       "34047         0.0           0.0  \n",
       "34048         0.0           0.0  \n",
       "34049         0.0           0.0  \n",
       "\n",
       "[34050 rows x 9 columns]"
      ]
     },
     "execution_count": 42,
     "metadata": {},
     "output_type": "execute_result"
    }
   ],
   "source": [
    "ans = pd.merge(df_mostviewedproduct,ans,on='UserID')\n",
    "ans"
   ]
  },
  {
   "cell_type": "code",
   "execution_count": 43,
   "metadata": {},
   "outputs": [],
   "source": [
    "answer = ans.rename(columns = {\n",
    "    'UserID': 'UserID',\n",
    "    \"HasVisited\": 'No_of_days_Visited_7_Days',\n",
    "                  'HasProductID':'No_Of_Products_Viewed_15_Days',\n",
    "                   'Vintage':'User_Vintage',\n",
    "                     \"MostViewed\": 'Most_Viewed_product_15_Days',\n",
    "                    'OS': 'Most_Active_OS',\n",
    "                    'ProductID':'Recently_Viewed_Product', \n",
    "                  'Haspageload': 'Pageloads_last_7_days',\n",
    "                  'Hasclick':'Clicks_last_7_days'\n",
    "\n",
    "                 },inplace=False)"
   ]
  },
  {
   "cell_type": "code",
   "execution_count": 44,
   "metadata": {},
   "outputs": [],
   "source": [
    "answer['Recently_Viewed_Product'] = answer['Recently_Viewed_Product'].apply(lambda x: 'Product101' if x == 'Nan' else x)"
   ]
  },
  {
   "cell_type": "code",
   "execution_count": 45,
   "metadata": {},
   "outputs": [],
   "source": [
    "answer = answer[['UserID', 'No_of_days_Visited_7_Days', 'No_Of_Products_Viewed_15_Days', \n",
    "                 'User_Vintage', 'Most_Viewed_product_15_Days', \n",
    "                  'Most_Active_OS',\n",
    "'Recently_Viewed_Product', 'Pageloads_last_7_days', 'Clicks_last_7_days']]\n",
    "\n",
    "\n",
    "answer.to_csv(\"First.csv\",index=False)"
   ]
  },
  {
   "cell_type": "code",
   "execution_count": 46,
   "metadata": {},
   "outputs": [
    {
     "data": {
      "text/plain": [
       "False    597197\n",
       "True      53498\n",
       "Name: Haspageload, dtype: int64"
      ]
     },
     "execution_count": 46,
     "metadata": {},
     "output_type": "execute_result"
    }
   ],
   "source": [
    "df_final_model['Haspageload'].value_counts()"
   ]
  },
  {
   "cell_type": "markdown",
   "metadata": {},
   "source": [
    "## Visuals section\n",
    "\n",
    "\n",
    "### Let us find top 5 popular products"
   ]
  },
  {
   "cell_type": "code",
   "execution_count": 47,
   "metadata": {},
   "outputs": [
    {
     "data": {
      "text/plain": [
       "<matplotlib.axes._subplots.AxesSubplot at 0x1dec5fce688>"
      ]
     },
     "execution_count": 47,
     "metadata": {},
     "output_type": "execute_result"
    },
    {
     "data": {
      "image/png": "[encoded data removed]",
      "text/plain": [
       "<Figure size 720x576 with 1 Axes>"
      ]
     },
     "metadata": {
      "needs_background": "light"
     },
     "output_type": "display_data"
    }
   ],
   "source": [
    "popular_products = answer['Most_Viewed_product_15_Days'].value_counts()[:6]\n",
    "\n",
    "plt.figure(figsize=(10,8))\n",
    "sns.barplot(x = popular_products.index, y= popular_products)"
   ]
  },
  {
   "cell_type": "markdown",
   "metadata": {},
   "source": [
    "### Let's plot relation with vintage and no of clicks"
   ]
  },
  {
   "cell_type": "code",
   "execution_count": 48,
   "metadata": {},
   "outputs": [
    {
     "data": {
      "image/png": "[encoded data removed]",
      "text/plain": [
       "<Figure size 432x288 with 2 Axes>"
      ]
     },
     "metadata": {
      "needs_background": "light"
     },
     "output_type": "display_data"
    }
   ],
   "source": [
    "i = 1\n",
    "for column in ['Pageloads_last_7_days','Clicks_last_7_days']:\n",
    "    plt.subplot(1,2,i)\n",
    "    plt.scatter(answer['User_Vintage'],answer[column])\n",
    "    i +=1"
   ]
  },
  {
   "cell_type": "code",
   "execution_count": 49,
   "metadata": {},
   "outputs": [
    {
     "data": {
      "text/plain": [
       "<matplotlib.axes._subplots.AxesSubplot at 0x1dec6f69188>"
      ]
     },
     "execution_count": 49,
     "metadata": {},
     "output_type": "execute_result"
    },
    {
     "data": {
      "image/png": "[encoded data removed]",
      "text/plain": [
       "<Figure size 720x576 with 1 Axes>"
      ]
     },
     "metadata": {
      "needs_background": "light"
     },
     "output_type": "display_data"
    }
   ],
   "source": [
    "plt.figure(figsize=(10,8)) \n",
    "sns.boxplot(answer['No_of_days_Visited_7_Days'],answer['Pageloads_last_7_days'],showfliers=False)\n"
   ]
  },
  {
   "cell_type": "markdown",
   "metadata": {},
   "source": [
    "### Let us see the grouped distribution of customers as per vintage"
   ]
  },
  {
   "cell_type": "code",
   "execution_count": 50,
   "metadata": {},
   "outputs": [
    {
     "data": {
      "text/plain": [
       "Text(0, 0.5, 'No Of Customers')"
      ]
     },
     "execution_count": 50,
     "metadata": {},
     "output_type": "execute_result"
    },
    {
     "data": {
      "image/png": "[encoded data removed]",
      "text/plain": [
       "<Figure size 1008x576 with 1 Axes>"
      ]
     },
     "metadata": {
      "needs_background": "light"
     },
     "output_type": "display_data"
    }
   ],
   "source": [
    "groups =  list(range(0,3300,300))\n",
    "\n",
    "\n",
    "counts = []\n",
    "labels = []\n",
    "for i,group in enumerate(groups):\n",
    "    if i == 10:\n",
    "        break\n",
    "    else:\n",
    "        counts.append(answer[(answer['User_Vintage'] > groups[i]) & (answer['User_Vintage'] <= groups[i+1])].shape[0])\n",
    "        labels.append(f'{group} - {groups[i+1]}')\n",
    "\n",
    "        \n",
    "        \n",
    "\n",
    "plt.figure(figsize=(14,8))\n",
    "sns.barplot(x = labels, y = counts)\n",
    "plt.plot(labels,counts,'.-',c='black')\n",
    "plt.xlabel(\"Vintage of the customer\",fontdict = {\"size\":12},labelpad=10)\n",
    "plt.ylabel(\"No Of Customers\",fontdict = {\"size\":12},labelpad=10)"
   ]
  },
  {
   "cell_type": "code",
   "execution_count": 51,
   "metadata": {},
   "outputs": [
    {
     "name": "stdout",
     "output_type": "stream",
     "text": [
      "17054\n",
      "23138 399.6161820851689\n"
     ]
    },
    {
     "data": {
      "text/plain": [
       "<function matplotlib.pyplot.show(*args, **kw)>"
      ]
     },
     "execution_count": 51,
     "metadata": {},
     "output_type": "execute_result"
    },
    {
     "data": {
      "image/png": "[encoded data removed]",
      "text/plain": [
       "<Figure size 432x288 with 1 Axes>"
      ]
     },
     "metadata": {
      "needs_background": "light"
     },
     "output_type": "display_data"
    },
    {
     "data": {
      "image/png": "[encoded data removed]",
      "text/plain": [
       "<Figure size 432x288 with 1 Axes>"
      ]
     },
     "metadata": {
      "needs_background": "light"
     },
     "output_type": "display_data"
    }
   ],
   "source": [
    "df1=answer['User_Vintage'].value_counts(bins=10) .reset_index().rename(columns={'index':'bin'})\n",
    "df1['Days'] = [(np.floor(x.left), np.floor(x.right)) for x in df1['bin']]\n",
    "Median_Users=answer[answer['User_Vintage'] <= answer['User_Vintage'].median()]\n",
    "print(Median_Users['User_Vintage'].count())\n",
    "mean_Users=answer[answer['User_Vintage'] <= answer['User_Vintage'].mean()]\n",
    "print(mean_Users['User_Vintage'].count(),answer['User_Vintage'].mean())\n",
    "df1.plot(kind = 'bar' ,x= 'Days',y='User_Vintage')\n",
    " \n",
    "plt.title('Customer Loyalty')\n",
    "plt.show\n",
    "#Fixe for the Line Graphs\n",
    "df1['oDays'] = [(np.floor(x.left)) for x in df1['bin']]\n",
    "oPlot=df1.plot(kind = 'line' ,x= 'oDays',y='User_Vintage' ,color='red')\n",
    "\n",
    "plt.show\n",
    "\n"
   ]
  },
  {
   "cell_type": "markdown",
   "metadata": {},
   "source": [
    "## Let us see the influence of the Operating system to visits in 15 days"
   ]
  },
  {
   "cell_type": "code",
   "execution_count": 52,
   "metadata": {},
   "outputs": [
    {
     "data": {
      "text/plain": [
       "<matplotlib.axes._subplots.AxesSubplot at 0x1decb2ff608>"
      ]
     },
     "execution_count": 52,
     "metadata": {},
     "output_type": "execute_result"
    },
    {
     "data": {
      "image/png": "[encoded data removed]",
      "text/plain": [
       "<Figure size 1008x576 with 1 Axes>"
      ]
     },
     "metadata": {
      "needs_background": "light"
     },
     "output_type": "display_data"
    }
   ],
   "source": [
    "plt.figure(figsize=(14,8))\n",
    "sns.boxplot(data = answer,x = 'Most_Active_OS',y = 'No_Of_Products_Viewed_15_Days',showfliers=False)"
   ]
  },
  {
   "cell_type": "code",
   "execution_count": 53,
   "metadata": {},
   "outputs": [
    {
     "data": {
      "text/html": [
       "<div>\n",
       "<style scoped>\n",
       "    .dataframe tbody tr th:only-of-type {\n",
       "        vertical-align: middle;\n",
       "    }\n",
       "\n",
       "    .dataframe tbody tr th {\n",
       "        vertical-align: top;\n",
       "    }\n",
       "\n",
       "    .dataframe thead th {\n",
       "        text-align: right;\n",
       "    }\n",
       "</style>\n",
       "<table border=\"1\" class=\"dataframe\">\n",
       "  <thead>\n",
       "    <tr style=\"text-align: right;\">\n",
       "      <th></th>\n",
       "      <th>UserID</th>\n",
       "      <th>No_of_days_Visited_7_Days</th>\n",
       "      <th>No_Of_Products_Viewed_15_Days</th>\n",
       "      <th>User_Vintage</th>\n",
       "      <th>Most_Viewed_product_15_Days</th>\n",
       "      <th>Most_Active_OS</th>\n",
       "      <th>Recently_Viewed_Product</th>\n",
       "      <th>Pageloads_last_7_days</th>\n",
       "      <th>Clicks_last_7_days</th>\n",
       "    </tr>\n",
       "  </thead>\n",
       "  <tbody>\n",
       "    <tr>\n",
       "      <td>0</td>\n",
       "      <td>U100002</td>\n",
       "      <td>0.0</td>\n",
       "      <td>2.0</td>\n",
       "      <td>53</td>\n",
       "      <td>Pr100258</td>\n",
       "      <td>android</td>\n",
       "      <td>Pr100258</td>\n",
       "      <td>0.0</td>\n",
       "      <td>0.0</td>\n",
       "    </tr>\n",
       "    <tr>\n",
       "      <td>1</td>\n",
       "      <td>U100003</td>\n",
       "      <td>1.0</td>\n",
       "      <td>3.0</td>\n",
       "      <td>1021</td>\n",
       "      <td>Pr100079</td>\n",
       "      <td>windows</td>\n",
       "      <td>Product101</td>\n",
       "      <td>1.0</td>\n",
       "      <td>2.0</td>\n",
       "    </tr>\n",
       "    <tr>\n",
       "      <td>2</td>\n",
       "      <td>U100004</td>\n",
       "      <td>1.0</td>\n",
       "      <td>16.0</td>\n",
       "      <td>341</td>\n",
       "      <td>Product101</td>\n",
       "      <td>windows</td>\n",
       "      <td>Product101</td>\n",
       "      <td>1.0</td>\n",
       "      <td>0.0</td>\n",
       "    </tr>\n",
       "    <tr>\n",
       "      <td>3</td>\n",
       "      <td>U100005</td>\n",
       "      <td>1.0</td>\n",
       "      <td>3.0</td>\n",
       "      <td>681</td>\n",
       "      <td>Pr100812</td>\n",
       "      <td>android</td>\n",
       "      <td>Pr100234</td>\n",
       "      <td>1.0</td>\n",
       "      <td>0.0</td>\n",
       "    </tr>\n",
       "    <tr>\n",
       "      <td>4</td>\n",
       "      <td>U100006</td>\n",
       "      <td>1.0</td>\n",
       "      <td>1.0</td>\n",
       "      <td>55</td>\n",
       "      <td>Pr101111</td>\n",
       "      <td>android</td>\n",
       "      <td>Pr101111</td>\n",
       "      <td>1.0</td>\n",
       "      <td>0.0</td>\n",
       "    </tr>\n",
       "    <tr>\n",
       "      <td>...</td>\n",
       "      <td>...</td>\n",
       "      <td>...</td>\n",
       "      <td>...</td>\n",
       "      <td>...</td>\n",
       "      <td>...</td>\n",
       "      <td>...</td>\n",
       "      <td>...</td>\n",
       "      <td>...</td>\n",
       "      <td>...</td>\n",
       "    </tr>\n",
       "    <tr>\n",
       "      <td>34045</td>\n",
       "      <td>U136960</td>\n",
       "      <td>0.0</td>\n",
       "      <td>0.0</td>\n",
       "      <td>755</td>\n",
       "      <td>Pr100172</td>\n",
       "      <td>windows</td>\n",
       "      <td>Pr100172</td>\n",
       "      <td>0.0</td>\n",
       "      <td>0.0</td>\n",
       "    </tr>\n",
       "    <tr>\n",
       "      <td>34046</td>\n",
       "      <td>U136961</td>\n",
       "      <td>0.0</td>\n",
       "      <td>0.0</td>\n",
       "      <td>60</td>\n",
       "      <td>Pr101381</td>\n",
       "      <td>android</td>\n",
       "      <td>Pr101381</td>\n",
       "      <td>0.0</td>\n",
       "      <td>0.0</td>\n",
       "    </tr>\n",
       "    <tr>\n",
       "      <td>34047</td>\n",
       "      <td>U136963</td>\n",
       "      <td>0.0</td>\n",
       "      <td>0.0</td>\n",
       "      <td>1420</td>\n",
       "      <td>Pr100102</td>\n",
       "      <td>android</td>\n",
       "      <td>Pr100166</td>\n",
       "      <td>0.0</td>\n",
       "      <td>0.0</td>\n",
       "    </tr>\n",
       "    <tr>\n",
       "      <td>34048</td>\n",
       "      <td>U136964</td>\n",
       "      <td>0.0</td>\n",
       "      <td>0.0</td>\n",
       "      <td>495</td>\n",
       "      <td>Pr100769</td>\n",
       "      <td>windows</td>\n",
       "      <td>Pr100769</td>\n",
       "      <td>0.0</td>\n",
       "      <td>0.0</td>\n",
       "    </tr>\n",
       "    <tr>\n",
       "      <td>34049</td>\n",
       "      <td>U136965</td>\n",
       "      <td>0.0</td>\n",
       "      <td>0.0</td>\n",
       "      <td>243</td>\n",
       "      <td>Pr100709</td>\n",
       "      <td>android</td>\n",
       "      <td>Pr100709</td>\n",
       "      <td>0.0</td>\n",
       "      <td>0.0</td>\n",
       "    </tr>\n",
       "  </tbody>\n",
       "</table>\n",
       "<p>34050 rows × 9 columns</p>\n",
       "</div>"
      ],
      "text/plain": [
       "        UserID  No_of_days_Visited_7_Days  No_Of_Products_Viewed_15_Days  \\\n",
       "0      U100002                        0.0                            2.0   \n",
       "1      U100003                        1.0                            3.0   \n",
       "2      U100004                        1.0                           16.0   \n",
       "3      U100005                        1.0                            3.0   \n",
       "4      U100006                        1.0                            1.0   \n",
       "...        ...                        ...                            ...   \n",
       "34045  U136960                        0.0                            0.0   \n",
       "34046  U136961                        0.0                            0.0   \n",
       "34047  U136963                        0.0                            0.0   \n",
       "34048  U136964                        0.0                            0.0   \n",
       "34049  U136965                        0.0                            0.0   \n",
       "\n",
       "       User_Vintage Most_Viewed_product_15_Days Most_Active_OS  \\\n",
       "0                53                    Pr100258        android   \n",
       "1              1021                    Pr100079        windows   \n",
       "2               341                  Product101        windows   \n",
       "3               681                    Pr100812        android   \n",
       "4                55                    Pr101111        android   \n",
       "...             ...                         ...            ...   \n",
       "34045           755                    Pr100172        windows   \n",
       "34046            60                    Pr101381        android   \n",
       "34047          1420                    Pr100102        android   \n",
       "34048           495                    Pr100769        windows   \n",
       "34049           243                    Pr100709        android   \n",
       "\n",
       "      Recently_Viewed_Product  Pageloads_last_7_days  Clicks_last_7_days  \n",
       "0                    Pr100258                    0.0                 0.0  \n",
       "1                  Product101                    1.0                 2.0  \n",
       "2                  Product101                    1.0                 0.0  \n",
       "3                    Pr100234                    1.0                 0.0  \n",
       "4                    Pr101111                    1.0                 0.0  \n",
       "...                       ...                    ...                 ...  \n",
       "34045                Pr100172                    0.0                 0.0  \n",
       "34046                Pr101381                    0.0                 0.0  \n",
       "34047                Pr100166                    0.0                 0.0  \n",
       "34048                Pr100769                    0.0                 0.0  \n",
       "34049                Pr100709                    0.0                 0.0  \n",
       "\n",
       "[34050 rows x 9 columns]"
      ]
     },
     "execution_count": 53,
     "metadata": {},
     "output_type": "execute_result"
    }
   ],
   "source": [
    "answer"
   ]
  },
  {
   "cell_type": "code",
   "execution_count": 54,
   "metadata": {},
   "outputs": [
    {
     "data": {
      "text/plain": [
       "count        34050\n",
       "unique        2035\n",
       "top       Pr100017\n",
       "freq          1747\n",
       "Name: Most_Viewed_product_15_Days, dtype: object"
      ]
     },
     "execution_count": 54,
     "metadata": {},
     "output_type": "execute_result"
    }
   ],
   "source": [
    "answer['Most_Viewed_product_15_Days'].describe()"
   ]
  },
  {
   "cell_type": "code",
   "execution_count": 55,
   "metadata": {},
   "outputs": [
    {
     "data": {
      "text/plain": [
       "Index(['UserID', 'No_of_days_Visited_7_Days', 'No_Of_Products_Viewed_15_Days',\n",
       "       'User_Vintage', 'Most_Viewed_product_15_Days', 'Most_Active_OS',\n",
       "       'Recently_Viewed_Product', 'Pageloads_last_7_days',\n",
       "       'Clicks_last_7_days'],\n",
       "      dtype='object')"
      ]
     },
     "execution_count": 55,
     "metadata": {},
     "output_type": "execute_result"
    }
   ],
   "source": [
    "answer.columns\n"
   ]
  },
  {
   "cell_type": "code",
   "execution_count": 56,
   "metadata": {},
   "outputs": [
    {
     "data": {
      "text/plain": [
       "windows      20138\n",
       "android       9748\n",
       "mac os x      2426\n",
       "linux          932\n",
       "ios            485\n",
       "ubuntu         295\n",
       "chrome os       14\n",
       "fedora          12\n",
       "Name: Most_Active_OS, dtype: int64"
      ]
     },
     "execution_count": 56,
     "metadata": {},
     "output_type": "execute_result"
    }
   ],
   "source": [
    "answer['Most_Active_OS'].value_counts()"
   ]
  },
  {
   "cell_type": "code",
   "execution_count": null,
   "metadata": {},
   "outputs": [],
   "source": []
  }
 ],
 "metadata": {
  "kernelspec": {
   "display_name": "Python 3",
   "language": "python",
   "name": "python3"
  },
  "language_info": {
   "codemirror_mode": {
    "name": "ipython",
    "version": 3
   },
   "file_extension": ".py",
   "mimetype": "text/x-python",
   "name": "python",
   "nbconvert_exporter": "python",
   "pygments_lexer": "ipython3",
   "version": "3.7.4"
  }
 },
 "nbformat": 4,
 "nbformat_minor": 4
}
